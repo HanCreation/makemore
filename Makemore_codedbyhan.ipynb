{
 "cells": [
  {
   "cell_type": "markdown",
   "metadata": {},
   "source": [
    "# Makemore\n",
    "\n",
    "Noted, Coded, and Created by Han Summer 2024. Part of The 20th Summer Project\n",
    "\n",
    "------------\n",
    "### Makemore\n",
    "\n",
    "Making more things from the data given to the model.\n",
    "\n",
    "Under the hood, **makemore is character level language model**, it means treating every single line example of data from the training set as a sequence of individual characters.\n",
    "\n",
    "Character level language model, simpelnya cuman prediksi huruf yang selanjutnya berdasarkan sequence huruf yang udah ada (before it)\n",
    "\n",
    "----\n",
    "## This page is a the finished implementation of makemore model including Statistic Bigram, NN Bigram with Batch Norm"
   ]
  },
  {
   "cell_type": "code",
   "execution_count": 4,
   "metadata": {},
   "outputs": [],
   "source": [
    "import torch\n",
    "import torch.nn.functional as F\n",
    "import matplotlib.pyplot as plt"
   ]
  },
  {
   "cell_type": "markdown",
   "metadata": {},
   "source": [
    "### Read Dataset (Run This first)"
   ]
  },
  {
   "cell_type": "code",
   "execution_count": 7,
   "metadata": {},
   "outputs": [],
   "source": [
    "# Open the dataset (List of names) as a python list of strings which is words in this case\n",
    "# Can be changed to any text file with words separated by newlines\n",
    "word= open('names.txt', 'r').read().splitlines()"
   ]
  },
  {
   "cell_type": "code",
   "execution_count": 8,
   "metadata": {},
   "outputs": [],
   "source": [
    "N=torch.zeros((27,27),dtype=torch.int32)\n",
    "\n",
    "#Make lookup table for character to index\n",
    "chars=sorted(list(set(''.join(word)))) #Concat all the word in the dataset to 1 string, make it set which not allowing duplicate and sorted from a to z\n",
    "#the index will start from 1 since index 0 will be used for start/end token\n",
    "stoi={s:i+1 for i,s in enumerate(chars)} #Make dictionary of character to index {'a': 1, 'b': 2, 'c': 3, 'd': 4, and so on}\n",
    "#Add start token and end token to the dictionary as a '.' and located in index 0\n",
    "stoi['.']=0\n",
    "#Inverse the matrix\n",
    "itos={v:k for k,v in stoi.items()} "
   ]
  },
  {
   "cell_type": "markdown",
   "metadata": {},
   "source": [
    "### Bigram"
   ]
  },
  {
   "cell_type": "code",
   "execution_count": 28,
   "metadata": {},
   "outputs": [],
   "source": [
    "def Bigram(word,namecount):\n",
    "\n",
    "    for w in word:\n",
    "        #Add start token and end token\n",
    "        chs=['.']+list(w)+['.']\n",
    "        for ch1, ch2 in zip(chs, chs[1:]): #Iterate with 2 characters at a time\n",
    "            #Zip bakal stop ketika salah satu elemen habis, seperti chs[1:] habis duluan dibanding w\n",
    "            ix1=stoi[ch1]\n",
    "            ix2=stoi[ch2]\n",
    "            #Counting up the occurence of the bigram\n",
    "            N[ix1, ix2]+=1\n",
    "    # g = torch.Generator().manual_seed(2147483647)\n",
    "    \n",
    "    \n",
    "    P=(N+1).float() #Smoothing the model\n",
    "    P=P/P.sum(1, keepdim=True)\n",
    "    #for loop for how many names will be generated\n",
    "    for i in range (namecount):\n",
    "        out=[]\n",
    "        ix=0\n",
    "        while True:\n",
    "            p=P[ix]\n",
    "            #Generate the sample based on the probability in the row\n",
    "            ix=torch.multinomial(p, num_samples=1, replacement=True).item()\n",
    "            out.append(itos[ix])\n",
    "            if ix==0: #This is when the char is '.' aka the end\n",
    "                break\n",
    "        print(''.join(out))\n"
   ]
  },
  {
   "cell_type": "code",
   "execution_count": 29,
   "metadata": {},
   "outputs": [
    {
     "name": "stdout",
     "output_type": "stream",
     "text": [
      "amciasanelarenthahin.\n",
      "lirarinze.\n",
      "fabe.\n",
      "aimahinn.\n",
      "bionielana.\n",
      "n.\n",
      "a.\n",
      "malartalyon.\n",
      "ziton.\n",
      "mphelyadorudoarueilahkieestondriantolaliye.\n"
     ]
    }
   ],
   "source": [
    "Bigram(word,10) #Generate 10 names"
   ]
  },
  {
   "cell_type": "markdown",
   "metadata": {},
   "source": [
    "### Bigram Neural Net"
   ]
  },
  {
   "cell_type": "code",
   "execution_count": 30,
   "metadata": {},
   "outputs": [],
   "source": [
    "def NNBigram(epoch,learning_rate):\n",
    "    \n",
    "    #Create the training set of bigrams(x) and the target set of bigrams(y)\n",
    "    xs, ys = [], []\n",
    "\n",
    "    for w in word: #Iterate through all the bigrams\n",
    "        #Add start token and end token\n",
    "        chs=['.']+list(w)+['.']\n",
    "        for ch1, ch2 in zip(chs, chs[1:]): #Iterate with 2 characters at a time\n",
    "            #Zip bakal stop ketika salah satu elemen habis, seperti chs[1:] habis duluan dibanding w\n",
    "            ix1=stoi[ch1]\n",
    "            ix2=stoi[ch2]\n",
    "            #Store the index value to the list\n",
    "            xs.append(ix1)\n",
    "            ys.append(ix2)\n",
    "            \n",
    "    #Convert to tensor (better to use lowercase \"tensor\" not \"Tensor\" since Tensor automatically assign the dtype to float32)\n",
    "    xs=torch.tensor(xs)\n",
    "    ys=torch.tensor(ys)    \n",
    "    num = xs.nelement() #Number of element in the tensor\n",
    "    \n",
    "    # randomly initialize 27 neurons' weights. each neuron receives 27 inputs\n",
    "    # g = torch.Generator().manual_seed(2147483647)\n",
    "    W = torch.randn((27, 27), requires_grad=True) #requires_grad=True to make the weight can be updated by the optimizer\n",
    "    \n",
    "    #Model Training, gradient descent\n",
    "    for i in range(epoch):\n",
    "        #Forward pass\n",
    "        xenc = F.one_hot(xs, num_classes=27).float() \n",
    "        logits = xenc @ W \n",
    "        counts = logits.exp()\n",
    "        probs = counts / counts.sum(1, keepdims=True)\n",
    "        loss=-probs[torch.arange(num), ys].log().mean()\n",
    "        \n",
    "        #Backward pass\n",
    "        W.grad=None #Reset the gradient to zero\n",
    "        loss.backward() #Calculate the gradient, torch is like micrograd, it tracks the computation graph\n",
    "        \n",
    "        #Update weight\n",
    "        W.data += -learning_rate * W.grad\n",
    "        if i % 10 == 0:\n",
    "            print(f'Iter {i}, Loss {loss.item()}')\n",
    "            \n",
    "    return W\n"
   ]
  },
  {
   "cell_type": "code",
   "execution_count": 31,
   "metadata": {},
   "outputs": [
    {
     "name": "stdout",
     "output_type": "stream",
     "text": [
      "Epoch 0, Loss 3.800018787384033\n",
      "Epoch 10, Loss 2.659454107284546\n",
      "Epoch 20, Loss 2.5612409114837646\n",
      "Epoch 30, Loss 2.5260512828826904\n",
      "Epoch 40, Loss 2.5074403285980225\n",
      "Epoch 50, Loss 2.4960408210754395\n",
      "Epoch 60, Loss 2.4883546829223633\n",
      "Epoch 70, Loss 2.482818841934204\n",
      "Epoch 80, Loss 2.4786510467529297\n",
      "Epoch 90, Loss 2.4754178524017334\n"
     ]
    }
   ],
   "source": [
    "#Model training\n",
    "W=NNBigram(100,50)"
   ]
  },
  {
   "cell_type": "code",
   "execution_count": 32,
   "metadata": {},
   "outputs": [],
   "source": [
    "# Make the neural net do the character prediction\n",
    "def predict_next_char(W):\n",
    "    g = torch.Generator().manual_seed(2147483647)\n",
    "\n",
    "    for i in range(5):\n",
    "        out = []\n",
    "        ix = 0\n",
    "        while True:\n",
    "            xenc = F.one_hot(torch.tensor([ix]), num_classes=27).float()\n",
    "            logits = xenc @ W # predict log-counts\n",
    "            counts = logits.exp() # counts, equivalent to N\n",
    "            p = counts / counts.sum(1, keepdims=True) # probabilities for next character\n",
    "            # ----------\n",
    "            #Generate the sample based on the probability in the row\n",
    "            ix = torch.multinomial(p, num_samples=1, replacement=True).item()\n",
    "            out.append(itos[ix])\n",
    "            if ix == 0:\n",
    "                break\n",
    "        print(''.join(out))"
   ]
  },
  {
   "cell_type": "code",
   "execution_count": 33,
   "metadata": {},
   "outputs": [
    {
     "name": "stdout",
     "output_type": "stream",
     "text": [
      "s.\n",
      "ly.\n",
      "washja.\n",
      "jan.\n",
      "tlilytlo.\n"
     ]
    }
   ],
   "source": [
    "predict_next_char(W)"
   ]
  },
  {
   "cell_type": "markdown",
   "metadata": {},
   "source": [
    "### Neural Network with Batch Norm (Dataset split + GPU Support)\n",
    "\n",
    "Predict next char based on 3 characters before, and with batch normalization"
   ]
  },
  {
   "cell_type": "code",
   "execution_count": 9,
   "metadata": {},
   "outputs": [],
   "source": [
    "block_size=3 #How many character used for prediction"
   ]
  },
  {
   "cell_type": "code",
   "execution_count": 10,
   "metadata": {},
   "outputs": [],
   "source": [
    "def build_dataset(words):\n",
    "    #Context size: berapa karakter sebelum yang dipake buat predict selanjutnya\n",
    "    X, Y= [], []\n",
    "    for w in words:\n",
    "        # print(w)\n",
    "        context=[0]*block_size #Padded context of 0 tokens -> [0]* 3 = [0,0,0] -> . . .\n",
    "        for ch in w+'.':\n",
    "            ix = stoi[ch]\n",
    "            X.append(context)\n",
    "            Y.append(ix)\n",
    "            # print (''.join(itos[i] for i in context), '-->', itos[ix])\n",
    "            context=context[1:]+[ix] #rolling window of the context, remove char in first idx and add new char in last idx\n",
    "    #Convert to tensor\n",
    "    X= torch.tensor(X)\n",
    "    Y= torch.tensor(Y)\n",
    "    \n",
    "    print(X.shape, X.dtype, Y.shape, Y.dtype)\n",
    "    return X,Y"
   ]
  },
  {
   "cell_type": "code",
   "execution_count": 11,
   "metadata": {},
   "outputs": [],
   "source": [
    "#Dataset split\n",
    "import random\n",
    "random.seed(42)\n",
    "random.shuffle(word)"
   ]
  },
  {
   "cell_type": "code",
   "execution_count": 12,
   "metadata": {},
   "outputs": [
    {
     "name": "stdout",
     "output_type": "stream",
     "text": [
      "torch.Size([228146, 3]) torch.int64 torch.Size([228146]) torch.int64\n",
      "torch.Size([182625, 3]) torch.int64 torch.Size([182625]) torch.int64\n",
      "torch.Size([22655, 3]) torch.int64 torch.Size([22655]) torch.int64\n",
      "torch.Size([22866, 3]) torch.int64 torch.Size([22866]) torch.int64\n"
     ]
    }
   ],
   "source": [
    "n1= int(len(word)*0.8) #80% of the dataset\n",
    "n2= int(len(word)*0.9) #90% of the dataset\n",
    "\n",
    "X, Y= build_dataset(word)\n",
    "Xtr,Ytr= build_dataset(word[:n1]) #Train\n",
    "Xdev,Ydev= build_dataset(word[n1:n2]) #Validation -> 10% of the data (between 80% and 90% ; between Train and Test)\n",
    "Xte,Yte= build_dataset(word[n2:]) #Test -> 10% of the data"
   ]
  },
  {
   "cell_type": "code",
   "execution_count": 13,
   "metadata": {},
   "outputs": [],
   "source": [
    "#Move all to GPU\n",
    "device = torch.device('cuda' if torch.cuda.is_available() else 'cpu')\n",
    "Xtr,Ytr,Xdev,Ydev,Xte,Yte = Xtr.to(device),Ytr.to(device),Xdev.to(device),Ydev.to(device),Xte.to(device),Yte.to(device)"
   ]
  },
  {
   "cell_type": "code",
   "execution_count": 85,
   "metadata": {},
   "outputs": [],
   "source": [
    "lossi = []\n",
    "\n",
    "def trainBNest(max_steps = 200000, batch_size = 32,momentum=0.001, n_embd=10, n_hidden=200):\n",
    "    \n",
    "    vocab_size = len(itos)\n",
    "    C  = torch.randn((vocab_size, n_embd))\n",
    "    W1 = torch.randn((n_embd * block_size, n_hidden))*(5/3)/((n_embd * block_size)**0.5) #kaiming he normal init configuration\n",
    "    b1 = torch.randn(n_hidden)*0.01\n",
    "    W2 = torch.randn((n_hidden, vocab_size))*0.01\n",
    "    b2 = torch.randn(vocab_size)*0 \n",
    "\n",
    "    #BN parameters (Gain γ & Bias β) -> Scale and Shift\n",
    "    bngain=torch.ones((1,n_hidden))\n",
    "    bnbias=torch.zeros((1,n_hidden))\n",
    "    #Adding variable to estimate the mean and std (mean=0, std=1)\n",
    "    bnmean_running=torch.zeros((1,n_hidden))\n",
    "    bnstd_running=torch.ones((1,n_hidden))\n",
    "    \n",
    "    C,W1,b1,W2,b2 = C.to(device), W1.to(device), b1.to(device), W2.to(device), b2.to(device)\n",
    "    bnbias,bngain= bnbias.to(device), bngain.to(device)\n",
    "    bnmean_running,bnstd_running= bnmean_running.to(device), bnstd_running.to(device)\n",
    "    \n",
    "    parameters = [C, W1, b1, W2, b2,bngain,bnbias]\n",
    "    print('Num_params= ',sum(p.nelement() for p in parameters)) # number of parameters in total\n",
    "    for p in parameters:\n",
    "        p.requires_grad = True\n",
    "\n",
    "    for i in range(max_steps):\n",
    "        #Mini batch\n",
    "        ix=torch.randint(0,Xtr.shape[0],(batch_size,))\n",
    "        Xb, Yb = Xtr[ix], Ytr[ix]\n",
    "        Xb, Yb = Xb.to(device), Yb.to(device)\n",
    "        \n",
    "        #Forward pass\n",
    "        emb = C[Xb]\n",
    "        embcat=emb.view(emb.shape[0],-1) \n",
    "        hpreact = embcat @ W1 +b1 #b1 is useless anyway since will get subtracted in BN process\n",
    "        \n",
    "        #Batch Normalization=gain*(mean/std)+bias\n",
    "        bnmeani=hpreact.mean(dim=0,keepdim=True) #current batch mean\n",
    "        bnstdi=hpreact.std(dim=0,keepdim=True) #current batch std\n",
    "    \n",
    "        hpreact=bngain*((hpreact-bnmeani)/(bnstdi))+bnbias\n",
    "        \n",
    "        #Updating the running mean and std seperately to the NN training\n",
    "        with torch.no_grad(): #The operation below is not used for gradient calculation\n",
    "            #Updating by moving average\n",
    "            bnmean_running=(1-momentum)*bnmean_running+momentum*bnmeani\n",
    "            bnstd_running=(1-momentum)*bnstd_running+momentum*bnstdi\n",
    "        \n",
    "        h = torch.tanh(hpreact)  \n",
    "        logits = h @ W2 + b2  \n",
    "        loss = F.cross_entropy(logits, Yb) \n",
    "        \n",
    "        #Backward pass\n",
    "        for p in parameters:\n",
    "            p.grad = None            \n",
    "        loss.backward()\n",
    "        \n",
    "        #Update parameters\n",
    "        lr = 0.1 if i < 100000 else 0.01\n",
    "        for p in parameters:\n",
    "            p.data -= lr*p.grad\n",
    "        \n",
    "        #Track stats\n",
    "        if i % 10000 == 0:\n",
    "            print(f'Step {i}, Loss {loss.item()}')\n",
    "        lossi.append(loss.log10().item())\n",
    "        \n",
    "    return parameters, lossi, bnmean_running, bnstd_running"
   ]
  },
  {
   "cell_type": "markdown",
   "metadata": {},
   "source": [
    "Train"
   ]
  },
  {
   "cell_type": "code",
   "execution_count": 86,
   "metadata": {},
   "outputs": [
    {
     "name": "stdout",
     "output_type": "stream",
     "text": [
      "Num_params=  12297\n",
      "Step 0, Loss 3.273175001144409\n",
      "Step 10000, Loss 2.600304126739502\n",
      "Step 20000, Loss 2.262950897216797\n",
      "Step 30000, Loss 2.483833074569702\n",
      "Step 40000, Loss 1.9275245666503906\n",
      "Step 50000, Loss 2.5291364192962646\n",
      "Step 60000, Loss 2.4137370586395264\n",
      "Step 70000, Loss 1.85837721824646\n",
      "Step 80000, Loss 2.5302340984344482\n",
      "Step 90000, Loss 2.2093753814697266\n",
      "Step 100000, Loss 2.297924757003784\n",
      "Step 110000, Loss 1.9407331943511963\n",
      "Step 120000, Loss 2.3918251991271973\n",
      "Step 130000, Loss 2.6181344985961914\n",
      "Step 140000, Loss 2.023646354675293\n",
      "Step 150000, Loss 2.1068196296691895\n",
      "Step 160000, Loss 1.764400839805603\n",
      "Step 170000, Loss 1.9678499698638916\n",
      "Step 180000, Loss 2.1252236366271973\n",
      "Step 190000, Loss 2.1495461463928223\n"
     ]
    }
   ],
   "source": [
    "parameters, lossi, bnmean_running, bnstd_running = trainBNest()\n",
    "C, W1, b1, W2, b2, bngain, bnbias = parameters"
   ]
  },
  {
   "cell_type": "code",
   "execution_count": 92,
   "metadata": {},
   "outputs": [],
   "source": [
    "@torch.no_grad() # this decorator disables gradient tracking to the function below or use '''with torch.no_grad()''': to disable gradient tracking\n",
    "def split_lossBNest(split, parameters):\n",
    "  x,y = {\n",
    "    'train': (Xtr, Ytr),\n",
    "    'val': (Xdev, Ydev),\n",
    "    'test': (Xte, Yte),\n",
    "  }[split]\n",
    "  # parameters=parameters.to(device)\n",
    "  C,W1,b1,W2,b2,bngain,bnbias = parameters\n",
    "  C,W1,b1,W2,b2,bngain,bnbias = C.to(device),W1.to(device),b1.to(device),W2.to(device),b2.to(device),bngain.to(device),bnbias.to(device)\n",
    "  emb = C[x] # (N, block_size, n_embd)\n",
    "  embcat = emb.view(emb.shape[0], -1) # concat into (N, block_size * n_embd)\n",
    "  hpreact= embcat@W1 + b1\n",
    "  hpreact=bngain*((hpreact-bnmean_running)/(bnstd_running))+bnbias #Using fixed number from training set\n",
    "  h = torch.tanh(hpreact) # (N, n_hidden)\n",
    "  logits = h @ W2 + b2 # (N, vocab_size)\n",
    "  loss = F.cross_entropy(logits, y)\n",
    "  print(split, loss.item())\n",
    "  \n",
    "  return( h , (embcat@W1 + b1))"
   ]
  },
  {
   "cell_type": "code",
   "execution_count": 93,
   "metadata": {},
   "outputs": [
    {
     "name": "stdout",
     "output_type": "stream",
     "text": [
      "train 2.069105625152588\n",
      "val 2.1114752292633057\n"
     ]
    }
   ],
   "source": [
    "split_lossBNest('train', parameters)\n",
    "h, hr=split_lossBNest('val', parameters)"
   ]
  },
  {
   "cell_type": "code",
   "execution_count": 89,
   "metadata": {},
   "outputs": [
    {
     "data": {
      "text/plain": [
       "[<matplotlib.lines.Line2D at 0x1f0615543a0>]"
      ]
     },
     "execution_count": 89,
     "metadata": {},
     "output_type": "execute_result"
    },
    {
     "data": {
      "image/png": "[encoded data removed]",
      "text/plain": [
       "<Figure size 640x480 with 1 Axes>"
      ]
     },
     "metadata": {},
     "output_type": "display_data"
    }
   ],
   "source": [
    "plt.plot(lossi)"
   ]
  },
  {
   "cell_type": "markdown",
   "metadata": {},
   "source": [
    "Sample"
   ]
  },
  {
   "cell_type": "code",
   "execution_count": 94,
   "metadata": {},
   "outputs": [
    {
     "name": "stdout",
     "output_type": "stream",
     "text": [
      "zay.\n",
      "makdiel.\n",
      "alyn.\n",
      "shyis.\n",
      "alee.\n",
      "emerf.\n",
      "tamen.\n",
      "stin.\n",
      "zika.\n",
      "juni.\n",
      "eliyah.\n",
      "bryg.\n",
      "aeriell.\n",
      "nie.\n",
      "keidenneik.\n",
      "chan.\n",
      "bailley.\n",
      "winne.\n",
      "prisja.\n",
      "torveysha.\n"
     ]
    }
   ],
   "source": [
    "# g = torch.Generator().manual_seed(2147483647 + 10)\n",
    "\n",
    "for _ in range(20):\n",
    "    \n",
    "    out = []\n",
    "    context = [0] * block_size # initialize with all ... (block_size=3)\n",
    "    while True:\n",
    "      emb = C[torch.tensor([context])] # (1,block_size,d)\n",
    "      embcat= emb.view(emb.shape[0], -1) # (1,block_size*d)\n",
    "      hpreact = embcat @ W1 + b1\n",
    "      hpreact=bngain*((hpreact-bnmean_running)/(bnstd_running))+bnbias\n",
    "      h = torch.tanh(hpreact)\n",
    "      logits = h @ W2 + b2\n",
    "      probs = F.softmax(logits, dim=1)\n",
    "      ix = torch.multinomial(probs, num_samples=1).item()\n",
    "      context = context[1:] + [ix] #Rolling window to update context for next character\n",
    "      out.append(ix)\n",
    "      if ix == 0:\n",
    "        break\n",
    "    \n",
    "    print(''.join(itos[i] for i in out))"
   ]
  },
  {
   "cell_type": "markdown",
   "metadata": {},
   "source": [
    "### Generative Pre-trained Transformer (GPT) Makemore\n",
    "The dataset is different from previous part\n",
    "\n",
    "Now the dataset used is [tinyshakespeare.txt,](https://raw.githubusercontent.com/karpathy/char-rnn/master/data/tinyshakespeare/input.txt) which can be changed in GPTMakemoretrain.py file"
   ]
  },
  {
   "cell_type": "markdown",
   "metadata": {},
   "source": [
    "Hyperparameters and Import"
   ]
  },
  {
   "cell_type": "code",
   "execution_count": 107,
   "metadata": {},
   "outputs": [],
   "source": [
    "import GPTMakemoreModel\n",
    "from GPTMakemoreModel import GPTLanguageModel\n",
    "#Hyperparameters\n",
    "batch_size = 128\n",
    "block_size= 256 #Context size to predict next character (context=8 berarti predict karakter ke 9 berdasarkan 8 urutan sebelumnya)\n",
    "max_iters=10000\n",
    "eval_interval=250 #Do evaluation every eval_interval iterations\n",
    "learning_rate= 3e-4 #Self-attention ga terlalu bagus dengan learning rate yang tinggi\n",
    "device = torch.device(\"cuda\" if torch.cuda.is_available() else \"cpu\") #Use GPU (NVIDA RTX for example) if available\n",
    "eval_iters=200\n",
    "n_embd = 384 #Embedding dimensionsize\n",
    "n_layer= 6 #Number of layers\n",
    "n_head=6 #Number of heads in multi-head attention\n",
    "dropout=0.2 #20% dropou"
   ]
  },
  {
   "cell_type": "markdown",
   "metadata": {},
   "source": [
    "Load Data"
   ]
  },
  {
   "cell_type": "code",
   "execution_count": 102,
   "metadata": {},
   "outputs": [],
   "source": [
    "file_name='tinyshakespeare.txt' # change to tinyshakespeare directory/file name\n",
    "with open(file_name,'r', encoding='utf-8') as f:\n",
    "    text=f.read()\n",
    "    \n",
    "#Vocab Ambil semua karakter unik dalam dataset\n",
    "chars=sorted(list(set(text)))\n",
    "vocab_size=len(chars)\n",
    "# print(\"\".join(chars))\n",
    "# print(vocab_size)\n",
    "#Buat tabel untuk mapping karakter ke integer dan sebaliknya\n",
    "stoi={ch:i for i,ch in enumerate(chars)}\n",
    "itos={i:ch for i,ch in enumerate(chars)}\n",
    "#Encode (string->char to int)\n",
    "encode=lambda s: [stoi[ch] for ch in s]\n",
    "#Decode (int->char to string)\n",
    "decode=lambda l: \"\".join([itos[i] for i in l])\n",
    "\n",
    "#Train-Val split\n",
    "#Misahin data menjadi train set dan validation set, supaya model bisa belajar dan diuji, kemudian kita bisa cek ga ada overfitting, ga nginget dataset doang\n",
    "data=torch.tensor(encode(text), dtype=torch.long)\n",
    "n= int(0.9*len(data))\n",
    "train_data=data[:n]\n",
    "val_data=data[n:]\n",
    "\n",
    "#Data loader\n",
    "def get_batch(split):\n",
    "    # generate a small batch of data of inputs x and targets y\n",
    "    data = train_data if split == 'train' else val_data # milih split train atau val\n",
    "    ix = torch.randint(len(data) - block_size, (batch_size,)) # generate random index positions, generate angka random 0 sampai len(data) - block_size sebanyak batch_sizenya, buat offset di training set\n",
    "    x = torch.stack([data[i:i+block_size] for i in ix]) # index ke i sampai i+block_size, ini inputnya, i itu angka yg ada di array ix\n",
    "    y = torch.stack([data[i+1:i+block_size+1] for i in ix]) # targetnya adalah x yang di offset 1\n",
    "    #torch.stack itu buat numpuk tensor-tensor 1D terus di tumpuk semua (stack them up at rows)\n",
    "    x, y = x.to(device), y.to(device) # jika ada GPU kalkulasinya bakal kerja di GPU, jadi dipindah ke GPU\n",
    "    return x, y"
   ]
  },
  {
   "cell_type": "code",
   "execution_count": 104,
   "metadata": {},
   "outputs": [],
   "source": [
    "@torch.no_grad() #Kasih tau pytorch buat ga nyimpen gradient dari fungsi ini, karena ini buat evaluasi doang dan supaya lebih efisien\n",
    "def estimate_loss():\n",
    "    out = {}\n",
    "    model.eval() # set model ke evaluation mode, karena jika layer layer tertentu bisa punya kelakuan beda saat inference(eval) dan training, contoh kek batchnorm\n",
    "    for split in ['train', 'val']:\n",
    "        losses = torch.zeros(eval_iters)\n",
    "        for k in range(eval_iters):\n",
    "            X, Y = get_batch(split)\n",
    "            logits, loss = model(X, Y)\n",
    "            losses[k] = loss.item()\n",
    "        out[split] = losses.mean()\n",
    "    model.train() # set model ke training mode\n",
    "    return out\n"
   ]
  },
  {
   "cell_type": "code",
   "execution_count": null,
   "metadata": {},
   "outputs": [],
   "source": [
    "model = GPTLanguageModel(vocab_size)\n",
    "m = model.to(device) # jika ada GPU kalkulasinya bakal kerja di GPU, jadi dipindah ke GPU\n",
    "\n",
    "# create a PyTorch optimizer\n",
    "optimizer = torch.optim.AdamW(model.parameters(), lr=learning_rate)\n",
    "\n",
    "for iter in range(max_iters):\n",
    "\n",
    "    # every once in a while evaluate the loss on train and val sets\n",
    "    if iter % eval_interval == 0:\n",
    "        losses = estimate_loss()\n",
    "        print(f\"step {iter}: train loss {losses['train']:.4f}, val loss {losses['val']:.4f}\")\n",
    "\n",
    "    # sample a batch of data\n",
    "    xb, yb = get_batch('train')\n",
    "\n",
    "    # evaluate the loss\n",
    "    logits, loss = model(xb, yb)\n",
    "    optimizer.zero_grad(set_to_none=True)\n",
    "    loss.backward()\n",
    "    optimizer.step()\n",
    "\n",
    "# save the model\n",
    "model_name='model.pth'#Change to desired name\n",
    "torch.save(model.state_dict(), model_name) "
   ]
  },
  {
   "cell_type": "markdown",
   "metadata": {},
   "source": [
    "Sample from GPT Model"
   ]
  },
  {
   "cell_type": "code",
   "execution_count": 109,
   "metadata": {},
   "outputs": [],
   "source": [
    "model_name='modelTinyShakeSpeare.pth'"
   ]
  },
  {
   "cell_type": "code",
   "execution_count": 112,
   "metadata": {},
   "outputs": [],
   "source": [
    "#load model\n",
    "model_load=GPTLanguageModel(vocab_size)\n",
    "model_load.load_state_dict(torch.load(model_name))\n",
    "m=model_load.to(device)"
   ]
  },
  {
   "cell_type": "code",
   "execution_count": 113,
   "metadata": {},
   "outputs": [],
   "source": [
    "# generate from the model\n",
    "context = torch.zeros((1, 1), dtype=torch.long, device=device) #Start index\n",
    "#  [0] itu First dimension/firstbatch for predicition -> m.generate(context, max_new_tokens=500)[0].tolist()\n",
    "print(decode(m.generate(context, max_new_tokens=5000)[0].tolist()))"
   ]
  }
 ],
 "metadata": {
  "kernelspec": {
   "display_name": "torchenv",
   "language": "python",
   "name": "python3"
  },
  "language_info": {
   "codemirror_mode": {
    "name": "ipython",
    "version": 3
   },
   "file_extension": ".py",
   "mimetype": "text/x-python",
   "name": "python",
   "nbconvert_exporter": "python",
   "pygments_lexer": "ipython3",
   "version": "3.9.19"
  }
 },
 "nbformat": 4,
 "nbformat_minor": 2
}

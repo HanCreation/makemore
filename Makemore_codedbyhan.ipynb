{
 "cells": [
  {
   "cell_type": "markdown",
   "metadata": {},
   "source": [
    "# Makemore\n",
    "\n",
    "Noted, Coded, and Created by Han Summer 2024. Part of The 20th Summer Project\n",
    "\n",
    "------------\n",
    "### Makemore\n",
    "\n",
    "Making more things from the data given to the model.\n",
    "\n",
    "Under the hood, **makemore is character level language model**, it means treating every single line example of data from the training set as a sequence of individual characters.\n",
    "\n",
    "Character level language model, simpelnya cuman prediksi huruf yang selanjutnya berdasarkan sequence huruf yang udah ada (before it)\n",
    "\n",
    "----\n",
    "## This page is a the finished implementation of makemore model including Statistic Bigram, NN Bigram"
   ]
  },
  {
   "cell_type": "code",
   "execution_count": 2,
   "metadata": {},
   "outputs": [],
   "source": [
    "import torch"
   ]
  },
  {
   "cell_type": "markdown",
   "metadata": {},
   "source": [
    "### Read Dataset"
   ]
  },
  {
   "cell_type": "code",
   "execution_count": 3,
   "metadata": {},
   "outputs": [],
   "source": [
    "# Open the dataset (List of names) as a python list of strings which is words in this case\n",
    "word= open('names.txt', 'r').read().splitlines()"
   ]
  },
  {
   "cell_type": "markdown",
   "metadata": {},
   "source": [
    "### Bigram"
   ]
  },
  {
   "cell_type": "code",
   "execution_count": 4,
   "metadata": {},
   "outputs": [],
   "source": [
    "def Bigram(word,namecount):\n",
    "    N=torch.zeros((27,27),dtype=torch.int32)\n",
    "\n",
    "    #Make lookup table for character to index\n",
    "    chars=sorted(list(set(''.join(word)))) #Concat all the word in the dataset to 1 string, make it set which not allowing duplicate and sorted from a to z\n",
    "    #the index will start from 1 since index 0 will be used for start/end token\n",
    "    stoi={s:i+1 for i,s in enumerate(chars)} #Make dictionary of character to index {'a': 1, 'b': 2, 'c': 3, 'd': 4, and so on}\n",
    "    #Add start token and end token to the dictionary as a '.' and located in index 0\n",
    "    stoi['.']=0\n",
    "    #Inverse the matrix\n",
    "    itos={v:k for k,v in stoi.items()} \n",
    "\n",
    "    for w in word:\n",
    "        #Add start token and end token\n",
    "        chs=['.']+list(w)+['.']\n",
    "        for ch1, ch2 in zip(chs, chs[1:]): #Iterate with 2 characters at a time\n",
    "            #Zip bakal stop ketika salah satu elemen habis, seperti chs[1:] habis duluan dibanding w\n",
    "            ix1=stoi[ch1]\n",
    "            ix2=stoi[ch2]\n",
    "            #Counting up the occurence of the bigram\n",
    "            N[ix1, ix2]+=1\n",
    "    g = torch.Generator().manual_seed(2147483647)\n",
    "    \n",
    "    #for loop for how many names will be generated\n",
    "    P=N.float()\n",
    "    P=P/P.sum(1, keepdim=True)\n",
    "    for i in range (namecount):\n",
    "        out=[]\n",
    "        ix=0\n",
    "        while True:\n",
    "            p=P[ix]\n",
    "            #Generate the sample based on the probability in the row\n",
    "            ix=torch.multinomial(p, num_samples=1, replacement=True, generator=g).item() #Result will be diff with sensei cuz bug random seed gajelas \n",
    "            out.append(itos[ix])\n",
    "            if ix==0: #This is when the char is '.' aka the end\n",
    "                break\n",
    "        print(''.join(out))\n"
   ]
  },
  {
   "cell_type": "code",
   "execution_count": 5,
   "metadata": {},
   "outputs": [
    {
     "name": "stdout",
     "output_type": "stream",
     "text": [
      "junide.\n",
      "janasah.\n",
      "p.\n",
      "cony.\n",
      "a.\n",
      "nn.\n",
      "kohin.\n",
      "tolian.\n",
      "juee.\n",
      "ksahnaauranilevias.\n"
     ]
    }
   ],
   "source": [
    "Bigram(word,10) #Generate 10 names"
   ]
  },
  {
   "cell_type": "markdown",
   "metadata": {},
   "source": [
    "### Bigram Neural Net"
   ]
  },
  {
   "cell_type": "code",
   "execution_count": null,
   "metadata": {},
   "outputs": [],
   "source": []
  }
 ],
 "metadata": {
  "kernelspec": {
   "display_name": "torchenv",
   "language": "python",
   "name": "python3"
  },
  "language_info": {
   "codemirror_mode": {
    "name": "ipython",
    "version": 3
   },
   "file_extension": ".py",
   "mimetype": "text/x-python",
   "name": "python",
   "nbconvert_exporter": "python",
   "pygments_lexer": "ipython3",
   "version": "3.9.19"
  }
 },
 "nbformat": 4,
 "nbformat_minor": 2
}
